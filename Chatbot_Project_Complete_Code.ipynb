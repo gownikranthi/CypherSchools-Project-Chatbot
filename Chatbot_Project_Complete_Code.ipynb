{
  "cells": [
    {
      "cell_type": "markdown",
      "id": "b2e0c052",
      "metadata": {
        "id": "b2e0c052"
      },
      "source": [
        "# Building a Simple Chatbot Using Python\n",
        "\n",
        "\n"
      ]
    },
    {
      "cell_type": "code",
      "execution_count": 26,
      "id": "e522f90f",
      "metadata": {
        "id": "e522f90f"
      },
      "outputs": [],
      "source": []
    },
    {
      "cell_type": "markdown",
      "id": "8813dfcf",
      "metadata": {
        "id": "8813dfcf"
      },
      "source": [
        "## 1. Introduction to NLP and Chatbot Frameworks\n",
        "\n",
        "---\n",
        "\n",
        "\n",
        "\n",
        "### Definition and Importance of NLP\n",
        "Natural Language Processing (NLP) is a field of artificial intelligence that focuses on the interaction between computers and humans through natural language. The ultimate goal of NLP is to enable computers to understand, interpret, and generate human languages in a way that is both meaningful and useful.\n",
        "\n",
        "**Applications of NLP:**\n",
        "- Sentiment Analysis\n",
        "- Language Translation\n",
        "- Chatbots and Virtual Assistants\n",
        "- Text Summarization\n",
        "- Speech Recognition"
      ]
    },
    {
      "cell_type": "markdown",
      "id": "16cb9764",
      "metadata": {
        "id": "16cb9764"
      },
      "source": [
        "### Common NLP Tasks\n",
        "#### Tokenization\n",
        "Tokenization is the process of breaking text into individual words or tokens.\n",
        "\n",
        "#### Stemming and Lemmatization\n",
        "Stemming and lemmatization are processes of reducing words to their root forms.\n",
        "\n",
        "#### Stop Words Removal\n",
        "Stop words are common words that add little meaning to text and are often removed in preprocessing."
      ]
    },
    {
      "cell_type": "code",
      "execution_count": 27,
      "id": "ba7a2fde",
      "metadata": {
        "colab": {
          "base_uri": "https://localhost:8080/"
        },
        "id": "ba7a2fde",
        "outputId": "202c8e93-d0c2-490a-e0b9-a7982ade9831"
      },
      "outputs": [
        {
          "output_type": "stream",
          "name": "stdout",
          "text": [
            "['Natural', 'Language', 'Processing', 'is', 'fascinating', '.']\n"
          ]
        },
        {
          "output_type": "stream",
          "name": "stderr",
          "text": [
            "[nltk_data] Downloading package punkt to /root/nltk_data...\n",
            "[nltk_data]   Package punkt is already up-to-date!\n"
          ]
        }
      ],
      "source": [
        "import nltk\n",
        "nltk.download('punkt')\n",
        "from nltk.tokenize import word_tokenize\n",
        "\n",
        "text = \"Natural Language Processing is fascinating.\"\n",
        "tokens = word_tokenize(text)\n",
        "print(tokens)"
      ]
    },
    {
      "cell_type": "code",
      "execution_count": 28,
      "id": "98ccb093",
      "metadata": {
        "colab": {
          "base_uri": "https://localhost:8080/"
        },
        "id": "98ccb093",
        "outputId": "859c539f-760e-4e44-d690-5a10aacc303e"
      },
      "outputs": [
        {
          "output_type": "stream",
          "name": "stdout",
          "text": [
            "['run', 'ran', 'run']\n"
          ]
        }
      ],
      "source": [
        "from nltk.stem import PorterStemmer\n",
        "\n",
        "stemmer = PorterStemmer()\n",
        "words = [\"running\", \"ran\", \"runs\"]\n",
        "stems = [stemmer.stem(word) for word in words]\n",
        "print(stems)"
      ]
    },
    {
      "cell_type": "code",
      "execution_count": 29,
      "id": "17c70079",
      "metadata": {
        "colab": {
          "base_uri": "https://localhost:8080/"
        },
        "id": "17c70079",
        "outputId": "5e33aa07-e1bb-4cfe-fa0d-b08d6e8daaa6"
      },
      "outputs": [
        {
          "output_type": "stream",
          "name": "stdout",
          "text": [
            "['run', 'run', 'run']\n"
          ]
        },
        {
          "output_type": "stream",
          "name": "stderr",
          "text": [
            "[nltk_data] Downloading package wordnet to /root/nltk_data...\n",
            "[nltk_data]   Package wordnet is already up-to-date!\n"
          ]
        }
      ],
      "source": [
        "from nltk.stem import WordNetLemmatizer\n",
        "nltk.download('wordnet')\n",
        "\n",
        "lemmatizer = WordNetLemmatizer()\n",
        "words = [\"running\", \"ran\", \"runs\"]\n",
        "lemmas = [lemmatizer.lemmatize(word, pos='v') for word in words]\n",
        "print(lemmas)"
      ]
    },
    {
      "cell_type": "code",
      "execution_count": 30,
      "id": "791fa950",
      "metadata": {
        "colab": {
          "base_uri": "https://localhost:8080/"
        },
        "id": "791fa950",
        "outputId": "9ec6369c-2740-4169-9648-1e4947f21e1e"
      },
      "outputs": [
        {
          "output_type": "stream",
          "name": "stdout",
          "text": [
            "['Natural', 'Language', 'Processing', 'fascinating', '.']\n"
          ]
        },
        {
          "output_type": "stream",
          "name": "stderr",
          "text": [
            "[nltk_data] Downloading package stopwords to /root/nltk_data...\n",
            "[nltk_data]   Package stopwords is already up-to-date!\n"
          ]
        }
      ],
      "source": [
        "from nltk.corpus import stopwords\n",
        "nltk.download('stopwords')\n",
        "\n",
        "stop_words = set(stopwords.words('english'))\n",
        "filtered_text = [word for word in tokens if word.lower() not in stop_words]\n",
        "print(filtered_text)"
      ]
    },
    {
      "cell_type": "markdown",
      "id": "3d4734f7",
      "metadata": {
        "id": "3d4734f7"
      },
      "source": [
        "### Overview of Popular NLP Libraries\n",
        "#### NLTK (Natural Language Toolkit)\n",
        "NLTK is a powerful library for various NLP tasks, including tokenization, stemming, lemmatization, and more.\n",
        "\n",
        "#### SpaCy\n",
        "SpaCy is an open-source software library for advanced NLP tasks, known for its speed and efficiency.\n",
        "\n",
        "#### TextBlob\n",
        "TextBlob is a simple library for processing textual data, providing easy-to-use APIs for common NLP tasks."
      ]
    },
    {
      "cell_type": "markdown",
      "id": "1949f90b",
      "metadata": {
        "id": "1949f90b"
      },
      "source": [
        "### Introduction to Chatbot Frameworks\n",
        "#### ChatterBot\n",
        "ChatterBot is a Python library that makes it easy to generate automated responses to a user's input.\n",
        "\n",
        "#### Rasa\n",
        "Rasa is an open-source framework for building conversational AI, including chatbots and voice assistants."
      ]
    },
    {
      "cell_type": "markdown",
      "id": "64e793e2",
      "metadata": {
        "id": "64e793e2"
      },
      "source": [
        "## 2. Designing and Training a Simple Chatbot\n",
        "\n",
        "### Preprocessing Text Data\n",
        "Before training a chatbot, we need to preprocess the text data by tokenizing the text, removing stop words, and applying stemming or lemmatization."
      ]
    },
    {
      "cell_type": "code",
      "execution_count": 31,
      "id": "99cf09a1",
      "metadata": {
        "colab": {
          "base_uri": "https://localhost:8080/"
        },
        "id": "99cf09a1",
        "outputId": "8e1641b0-2fec-4b0f-85a0-c20aeaeade46"
      },
      "outputs": [
        {
          "output_type": "stream",
          "name": "stdout",
          "text": [
            "                                      Question  \\\n",
            "0                   introduction to the course   \n",
            "1  overview of data science and its importance   \n",
            "2    introduction to the data science workflow   \n",
            "3         key skills and tools in data science   \n",
            "4          where can i find my course videos ?   \n",
            "\n",
            "                                              Answer  \n",
            "0  Welcome to the data science course. Here you w...  \n",
            "1  Data science is crucial for making informed de...  \n",
            "2  The data science workflow includes data collec...  \n",
            "3  Important skills include programming, statisti...  \n",
            "4  You can find all your course videos on the Cip...  \n"
          ]
        },
        {
          "output_type": "stream",
          "name": "stderr",
          "text": [
            "[nltk_data] Downloading package punkt to /root/nltk_data...\n",
            "[nltk_data]   Package punkt is already up-to-date!\n"
          ]
        }
      ],
      "source": [
        "import pandas as pd\n",
        "\n",
        "# Load the dataset\n",
        "data = pd.read_csv('/content/chatbot_dataset.csv')\n",
        "\n",
        "# Preprocess the data\n",
        "nltk.download('punkt')\n",
        "data['Question'] = data['Question'].apply(lambda x: ' '.join(nltk.word_tokenize(x.lower())))\n",
        "print(data.head())"
      ]
    },
    {
      "cell_type": "markdown",
      "id": "556ec1a5",
      "metadata": {
        "id": "556ec1a5"
      },
      "source": [
        "### Vectorizing Text Data\n",
        "We convert the text data into numerical values using TF-IDF (Term Frequency-Inverse Document Frequency) vectorization."
      ]
    },
    {
      "cell_type": "code",
      "execution_count": 32,
      "id": "8c15d275",
      "metadata": {
        "colab": {
          "base_uri": "https://localhost:8080/"
        },
        "id": "8c15d275",
        "outputId": "0813fe3a-99a6-4595-84b7-33ceaa5af401"
      },
      "outputs": [
        {
          "output_type": "stream",
          "name": "stdout",
          "text": [
            "(48, 112)\n"
          ]
        }
      ],
      "source": [
        "from sklearn.feature_extraction.text import TfidfVectorizer\n",
        "\n",
        "vectorizer = TfidfVectorizer()\n",
        "X = vectorizer.fit_transform(data['Question'])\n",
        "print(X.shape)"
      ]
    },
    {
      "cell_type": "markdown",
      "id": "00d0aeca",
      "metadata": {
        "id": "00d0aeca"
      },
      "source": [
        "### Training a Text Classification Model\n",
        "We use the Naive Bayes classifier to train the model on the vectorized text data."
      ]
    },
    {
      "cell_type": "code",
      "execution_count": 33,
      "id": "36495a09",
      "metadata": {
        "colab": {
          "base_uri": "https://localhost:8080/"
        },
        "id": "36495a09",
        "outputId": "cad550bc-734a-49db-d383-935971f9d85c"
      },
      "outputs": [
        {
          "output_type": "stream",
          "name": "stdout",
          "text": [
            "Model training complete.\n"
          ]
        }
      ],
      "source": [
        "from sklearn.naive_bayes import MultinomialNB\n",
        "from sklearn.pipeline import make_pipeline\n",
        "from sklearn.model_selection import train_test_split\n",
        "\n",
        "# Split the data into training and test sets\n",
        "X_train, X_test, y_train, y_test = train_test_split(data['Question'], data['Answer'], test_size=0.2, random_state=42)\n",
        "\n",
        "# Create a model pipeline\n",
        "model = make_pipeline(TfidfVectorizer(), MultinomialNB())\n",
        "\n",
        "# Train the model\n",
        "model.fit(X_train, y_train)\n",
        "print(\"Model training complete.\")"
      ]
    },
    {
      "cell_type": "markdown",
      "id": "9c14aa6a",
      "metadata": {
        "id": "9c14aa6a"
      },
      "source": [
        "### Implementing a Function to Get Chatbot Responses\n",
        "We write a function to process user input and return responses based on the trained model."
      ]
    },
    {
      "cell_type": "code",
      "execution_count": 34,
      "id": "a9affc16",
      "metadata": {
        "colab": {
          "base_uri": "https://localhost:8080/"
        },
        "id": "a9affc16",
        "outputId": "5c8fbe28-a234-430c-cfa4-3f81f1c56fdd"
      },
      "outputs": [
        {
          "output_type": "stream",
          "name": "stdout",
          "text": [
            "Seaborn is a Python visualization library based on Matplotlib that provides a high-level interface for drawing attractive statistical graphics. This is covered in the Introduction to Matplotlib and Seaborn module.\n"
          ]
        }
      ],
      "source": [
        "# Function to get a response from the chatbot\n",
        "def get_response(question):\n",
        "    question = ' '.join(nltk.word_tokenize(question.lower()))\n",
        "    answer = model.predict([question])[0]\n",
        "    return answer\n",
        "\n",
        "# Testing the function\n",
        "print(get_response(\"What is NLP?\"))"
      ]
    },
    {
      "cell_type": "code",
      "source": [
        "pip install dash\n"
      ],
      "metadata": {
        "id": "GzGXz-nC7jK1",
        "outputId": "7e087ccb-5a14-4360-8fcc-c35548580b5b",
        "colab": {
          "base_uri": "https://localhost:8080/"
        }
      },
      "id": "GzGXz-nC7jK1",
      "execution_count": 35,
      "outputs": [
        {
          "output_type": "stream",
          "name": "stdout",
          "text": [
            "Requirement already satisfied: dash in /usr/local/lib/python3.10/dist-packages (2.17.1)\n",
            "Requirement already satisfied: Flask<3.1,>=1.0.4 in /usr/local/lib/python3.10/dist-packages (from dash) (2.2.5)\n",
            "Requirement already satisfied: Werkzeug<3.1 in /usr/local/lib/python3.10/dist-packages (from dash) (3.0.3)\n",
            "Requirement already satisfied: plotly>=5.0.0 in /usr/local/lib/python3.10/dist-packages (from dash) (5.15.0)\n",
            "Requirement already satisfied: dash-html-components==2.0.0 in /usr/local/lib/python3.10/dist-packages (from dash) (2.0.0)\n",
            "Requirement already satisfied: dash-core-components==2.0.0 in /usr/local/lib/python3.10/dist-packages (from dash) (2.0.0)\n",
            "Requirement already satisfied: dash-table==5.0.0 in /usr/local/lib/python3.10/dist-packages (from dash) (5.0.0)\n",
            "Requirement already satisfied: importlib-metadata in /usr/local/lib/python3.10/dist-packages (from dash) (8.0.0)\n",
            "Requirement already satisfied: typing-extensions>=4.1.1 in /usr/local/lib/python3.10/dist-packages (from dash) (4.12.2)\n",
            "Requirement already satisfied: requests in /usr/local/lib/python3.10/dist-packages (from dash) (2.31.0)\n",
            "Requirement already satisfied: retrying in /usr/local/lib/python3.10/dist-packages (from dash) (1.3.4)\n",
            "Requirement already satisfied: nest-asyncio in /usr/local/lib/python3.10/dist-packages (from dash) (1.6.0)\n",
            "Requirement already satisfied: setuptools in /usr/local/lib/python3.10/dist-packages (from dash) (67.7.2)\n",
            "Requirement already satisfied: Jinja2>=3.0 in /usr/local/lib/python3.10/dist-packages (from Flask<3.1,>=1.0.4->dash) (3.1.4)\n",
            "Requirement already satisfied: itsdangerous>=2.0 in /usr/local/lib/python3.10/dist-packages (from Flask<3.1,>=1.0.4->dash) (2.2.0)\n",
            "Requirement already satisfied: click>=8.0 in /usr/local/lib/python3.10/dist-packages (from Flask<3.1,>=1.0.4->dash) (8.1.7)\n",
            "Requirement already satisfied: tenacity>=6.2.0 in /usr/local/lib/python3.10/dist-packages (from plotly>=5.0.0->dash) (8.5.0)\n",
            "Requirement already satisfied: packaging in /usr/local/lib/python3.10/dist-packages (from plotly>=5.0.0->dash) (24.1)\n",
            "Requirement already satisfied: MarkupSafe>=2.1.1 in /usr/local/lib/python3.10/dist-packages (from Werkzeug<3.1->dash) (2.1.5)\n",
            "Requirement already satisfied: zipp>=0.5 in /usr/local/lib/python3.10/dist-packages (from importlib-metadata->dash) (3.19.2)\n",
            "Requirement already satisfied: charset-normalizer<4,>=2 in /usr/local/lib/python3.10/dist-packages (from requests->dash) (3.3.2)\n",
            "Requirement already satisfied: idna<4,>=2.5 in /usr/local/lib/python3.10/dist-packages (from requests->dash) (3.7)\n",
            "Requirement already satisfied: urllib3<3,>=1.21.1 in /usr/local/lib/python3.10/dist-packages (from requests->dash) (2.0.7)\n",
            "Requirement already satisfied: certifi>=2017.4.17 in /usr/local/lib/python3.10/dist-packages (from requests->dash) (2024.7.4)\n",
            "Requirement already satisfied: six>=1.7.0 in /usr/local/lib/python3.10/dist-packages (from retrying->dash) (1.16.0)\n"
          ]
        }
      ]
    },
    {
      "cell_type": "markdown",
      "id": "5134102a",
      "metadata": {
        "id": "5134102a"
      },
      "source": [
        "# Basics of Dash and Plotly\n",
        "\n",
        "In this notebook, we will cover the basics of Dash and Plotly. We will explain the essential components used to create a simple web application."
      ]
    },
    {
      "cell_type": "markdown",
      "id": "d2b73f16",
      "metadata": {
        "id": "d2b73f16"
      },
      "source": [
        "## Initializing the Dash App\n",
        "\n",
        "To start using Dash, you need to import the Dash module and create an instance of the Dash class. This instance will be your app."
      ]
    },
    {
      "cell_type": "code",
      "execution_count": 36,
      "id": "f1656680",
      "metadata": {
        "id": "f1656680"
      },
      "outputs": [],
      "source": [
        "import dash\n",
        "\n",
        "# Initialize the Dash app\n",
        "app = dash.Dash(__name__)"
      ]
    },
    {
      "cell_type": "markdown",
      "id": "c179f94c",
      "metadata": {
        "id": "c179f94c"
      },
      "source": [
        "## Defining the Layout\n",
        "\n",
        "The layout of a Dash app is defined using Dash's HTML and core components. The layout describes what the app looks like."
      ]
    },
    {
      "cell_type": "code",
      "execution_count": 37,
      "id": "0c06c3cb",
      "metadata": {
        "id": "0c06c3cb"
      },
      "outputs": [],
      "source": [
        "from dash import dcc, html\n",
        "\n",
        "# Define the layout\n",
        "app.layout = html.Div([\n",
        "    html.H1(\"My Dash App\", style={'textAlign': 'center'}),\n",
        "    dcc.Input(id='input-box', type='text', value='Type something...'),\n",
        "    html.Button('Submit', id='button'),\n",
        "    html.Div(id='output-div')\n",
        "])"
      ]
    },
    {
      "cell_type": "markdown",
      "id": "1f312978",
      "metadata": {
        "id": "1f312978"
      },
      "source": [
        "## Callback to Update the Output\n",
        "\n",
        "Callbacks in Dash are used to update the app's layout interactively. A callback is a function that gets automatically called by Dash whenever the input components' values change."
      ]
    },
    {
      "cell_type": "code",
      "execution_count": 38,
      "id": "596563f9",
      "metadata": {
        "id": "596563f9"
      },
      "outputs": [],
      "source": [
        "from dash.dependencies import Input, Output\n",
        "\n",
        "# Define callback to update output\n",
        "@app.callback(\n",
        "    Output('output-div', 'children'),\n",
        "    Input('button', 'n_clicks'),\n",
        "    [dash.dependencies.State('input-box', 'value')]\n",
        ")\n",
        "def update_output(n_clicks, value):\n",
        "    if n_clicks is not None:\n",
        "        return f'You have entered: {value}'\n",
        "    return ''\n"
      ]
    },
    {
      "cell_type": "markdown",
      "id": "ff8100a4",
      "metadata": {
        "id": "ff8100a4"
      },
      "source": [
        "## Running the App\n",
        "\n",
        "To run the app, you need to call the `run_server` method on the app instance. This will start a web server that serves the app."
      ]
    },
    {
      "cell_type": "code",
      "execution_count": 39,
      "id": "f4ba73ee",
      "metadata": {
        "id": "f4ba73ee",
        "outputId": "b1503999-bc65-46d2-f33e-57df2748d3b8",
        "colab": {
          "base_uri": "https://localhost:8080/",
          "height": 672
        }
      },
      "outputs": [
        {
          "output_type": "display_data",
          "data": {
            "text/plain": [
              "<IPython.core.display.Javascript object>"
            ],
            "application/javascript": [
              "(async (port, path, width, height, cache, element) => {\n",
              "    if (!google.colab.kernel.accessAllowed && !cache) {\n",
              "      return;\n",
              "    }\n",
              "    element.appendChild(document.createTextNode(''));\n",
              "    const url = await google.colab.kernel.proxyPort(port, {cache});\n",
              "    const iframe = document.createElement('iframe');\n",
              "    iframe.src = new URL(path, url).toString();\n",
              "    iframe.height = height;\n",
              "    iframe.width = width;\n",
              "    iframe.style.border = 0;\n",
              "    iframe.allow = [\n",
              "        'accelerometer',\n",
              "        'autoplay',\n",
              "        'camera',\n",
              "        'clipboard-read',\n",
              "        'clipboard-write',\n",
              "        'gyroscope',\n",
              "        'magnetometer',\n",
              "        'microphone',\n",
              "        'serial',\n",
              "        'usb',\n",
              "        'xr-spatial-tracking',\n",
              "    ].join('; ');\n",
              "    element.appendChild(iframe);\n",
              "  })(8050, \"/\", \"100%\", 650, false, window.element)"
            ]
          },
          "metadata": {}
        }
      ],
      "source": [
        "if __name__ == '__main__':\n",
        "    app.run_server(debug=True)"
      ]
    },
    {
      "cell_type": "markdown",
      "id": "733d996d",
      "metadata": {
        "id": "733d996d"
      },
      "source": [
        "## Example: Adding a Text Area\n",
        "\n",
        "You can add a text area to your Dash app using the `dcc.Textarea` component. This component allows the user to input multiline text."
      ]
    },
    {
      "cell_type": "code",
      "execution_count": 40,
      "id": "30baeb41",
      "metadata": {
        "id": "30baeb41"
      },
      "outputs": [],
      "source": [
        "app.layout = html.Div([\n",
        "    html.H1(\"Chatbot\", style={'textAlign': 'center'}),\n",
        "    dcc.Textarea(\n",
        "        id='user-input',\n",
        "        value='Type your question here...',\n",
        "        style={'width': '100%', 'height': 100}\n",
        "    ),\n",
        "    html.Button('Submit', id='submit-button', n_clicks=0),\n",
        "    html.Div(id='chatbot-output', style={'padding': '10px'})\n",
        "])"
      ]
    },
    {
      "cell_type": "markdown",
      "id": "959705f9",
      "metadata": {
        "id": "959705f9"
      },
      "source": [
        "## Example: Creating a Chatbot Response\n",
        "\n",
        "We can create a simple chatbot response by defining a callback function that takes user input and generates a response."
      ]
    },
    {
      "cell_type": "code",
      "execution_count": 41,
      "id": "7c066fdd",
      "metadata": {
        "id": "7c066fdd"
      },
      "outputs": [],
      "source": [
        "# Define callback to update chatbot response\n",
        "@app.callback(\n",
        "    Output('chatbot-output', 'children'),\n",
        "    Input('submit-button', 'n_clicks'),\n",
        "    [dash.dependencies.State('user-input', 'value')]\n",
        ")\n",
        "def update_output(n_clicks, user_input):\n",
        "    if n_clicks > 0:\n",
        "        return html.Div([\n",
        "            html.P(f\"You: {user_input}\", style={'margin': '10px'}),\n",
        "            html.P(f\"Bot: I am training now, ask something else.\", style={'margin': '10px', 'backgroundColor': '#f0f0f0', 'padding': '10px', 'borderRadius': '5px'})\n",
        "        ])\n",
        "    return \"Ask me something!\"\n"
      ]
    }
  ],
  "metadata": {
    "colab": {
      "provenance": []
    },
    "kernelspec": {
      "display_name": "Python 3",
      "name": "python3"
    },
    "language_info": {
      "name": "python"
    }
  },
  "nbformat": 4,
  "nbformat_minor": 5
}
